{
 "cells": [
  {
   "cell_type": "code",
   "execution_count": 7,
   "metadata": {},
   "outputs": [],
   "source": [
    "import shutil\n",
    "import warnings\n",
    "import joblib\n",
    "import pdfplumber\n",
    "import os\n",
    "import numpy as np\n",
    "warnings.filterwarnings('ignore')\n",
    "classifier = joblib.load('modelo_entrenado.pkl')"
   ]
  },
  {
   "cell_type": "code",
   "execution_count": 8,
   "metadata": {},
   "outputs": [],
   "source": [
    "def extract_text_and_features_from_pdf(file_path):\n",
    "    text = \"\"\n",
    "    num_pages = 0\n",
    "    has_table = False\n",
    "    keyword_count = {\"factura\": 0, \"total\": 0, \"contrato\": 0, \"cláusula\": 0, \"firma\": 0, \"cufe\": 0}\n",
    "    with pdfplumber.open(file_path) as pdf:\n",
    "        num_pages = len(pdf.pages)\n",
    "        for page in pdf.pages:\n",
    "            text += page.extract_text()\n",
    "            if page.extract_tables():\n",
    "                has_table = True\n",
    "    for keyword in keyword_count.keys():\n",
    "        keyword_count[keyword] = text.lower().count(keyword)\n",
    "    features = [num_pages, int(has_table)] + list(keyword_count.values())\n",
    "    return features\n",
    "def preprocess_and_predict(file_path, model):\n",
    "    features = extract_text_and_features_from_pdf(file_path)\n",
    "    prediction = model.predict(np.array([features]))\n",
    "    return prediction"
   ]
  },
  {
   "cell_type": "code",
   "execution_count": 9,
   "metadata": {},
   "outputs": [],
   "source": [
    "def move_file_based_on_prediction(file_path, prediction):\n",
    "    os.makedirs('organizados/carpeta_facturas', exist_ok=True)\n",
    "    os.makedirs('organizados/carpeta_contratos',exist_ok=True)\n",
    "    if prediction[0] == 'factura':\n",
    "        destination_path = 'organizados/carpeta_facturas'\n",
    "        shutil.copy(file_path, destination_path)\n",
    "    else:\n",
    "        destination_path = 'organizados/carpeta_contratos'\n",
    "        shutil.copy(file_path, destination_path)\n",
    "    print(f\"El archivo {file_path} ira {destination_path}\")"
   ]
  },
  {
   "cell_type": "code",
   "execution_count": 10,
   "metadata": {},
   "outputs": [
    {
     "name": "stderr",
     "output_type": "stream",
     "text": [
      "CropBox missing from /Page, defaulting to MediaBox\n",
      "CropBox missing from /Page, defaulting to MediaBox\n",
      "CropBox missing from /Page, defaulting to MediaBox\n",
      "CropBox missing from /Page, defaulting to MediaBox\n",
      "CropBox missing from /Page, defaulting to MediaBox\n",
      "CropBox missing from /Page, defaulting to MediaBox\n",
      "CropBox missing from /Page, defaulting to MediaBox\n",
      "CropBox missing from /Page, defaulting to MediaBox\n",
      "CropBox missing from /Page, defaulting to MediaBox\n",
      "CropBox missing from /Page, defaulting to MediaBox\n",
      "CropBox missing from /Page, defaulting to MediaBox\n",
      "CropBox missing from /Page, defaulting to MediaBox\n",
      "CropBox missing from /Page, defaulting to MediaBox\n"
     ]
    },
    {
     "name": "stdout",
     "output_type": "stream",
     "text": [
      "El archivo Contrato tiempo indeterminado.pdf es de tipo contrato\n",
      "El archivo ./test/Contrato tiempo indeterminado.pdf ira organizados/carpeta_contratos\n"
     ]
    },
    {
     "name": "stderr",
     "output_type": "stream",
     "text": [
      "CropBox missing from /Page, defaulting to MediaBox\n",
      "CropBox missing from /Page, defaulting to MediaBox\n",
      "CropBox missing from /Page, defaulting to MediaBox\n",
      "CropBox missing from /Page, defaulting to MediaBox\n",
      "CropBox missing from /Page, defaulting to MediaBox\n",
      "CropBox missing from /Page, defaulting to MediaBox\n",
      "CropBox missing from /Page, defaulting to MediaBox\n",
      "CropBox missing from /Page, defaulting to MediaBox\n",
      "CropBox missing from /Page, defaulting to MediaBox\n",
      "CropBox missing from /Page, defaulting to MediaBox\n"
     ]
    },
    {
     "name": "stdout",
     "output_type": "stream",
     "text": [
      "El archivo Contrato-prestacion-de-servicios-persona-natural.pdf es de tipo contrato\n",
      "El archivo ./test/Contrato-prestacion-de-servicios-persona-natural.pdf ira organizados/carpeta_contratos\n",
      "El archivo fv08300226340142400006442.pdf es de tipo factura\n",
      "El archivo ./test/fv08300226340142400006442.pdf ira organizados/carpeta_facturas\n"
     ]
    },
    {
     "name": "stderr",
     "output_type": "stream",
     "text": [
      "CropBox missing from /Page, defaulting to MediaBox\n",
      "CropBox missing from /Page, defaulting to MediaBox\n",
      "CropBox missing from /Page, defaulting to MediaBox\n"
     ]
    },
    {
     "name": "stdout",
     "output_type": "stream",
     "text": [
      "El archivo fv0901563114000240000JC3418.pdf es de tipo factura\n",
      "El archivo ./test/fv0901563114000240000JC3418.pdf ira organizados/carpeta_facturas\n",
      "El archivo fv0901563114000240000JC3903.pdf es de tipo factura\n",
      "El archivo ./test/fv0901563114000240000JC3903.pdf ira organizados/carpeta_facturas\n"
     ]
    }
   ],
   "source": [
    "directorio = './test/'\n",
    "for archivo in os.listdir(directorio):\n",
    "    prediccion = preprocess_and_predict(directorio+archivo, classifier)\n",
    "    print(f\"El archivo {archivo} es de tipo {prediccion[0]}\")\n",
    "    move_file_based_on_prediction(directorio+archivo, prediccion)"
   ]
  },
  {
   "cell_type": "code",
   "execution_count": null,
   "metadata": {},
   "outputs": [],
   "source": []
  }
 ],
 "metadata": {
  "kernelspec": {
   "display_name": "IA",
   "language": "python",
   "name": "python3"
  },
  "language_info": {
   "codemirror_mode": {
    "name": "ipython",
    "version": 3
   },
   "file_extension": ".py",
   "mimetype": "text/x-python",
   "name": "python",
   "nbconvert_exporter": "python",
   "pygments_lexer": "ipython3",
   "version": "3.10.16"
  }
 },
 "nbformat": 4,
 "nbformat_minor": 2
}
